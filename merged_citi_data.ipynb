{
 "cells": [
  {
   "cell_type": "code",
   "execution_count": 38,
   "metadata": {},
   "outputs": [
    {
     "name": "stderr",
     "output_type": "stream",
     "text": [
      "C:\\Users\\freew\\AppData\\Local\\Temp\\ipykernel_10052\\2741974383.py:14: FutureWarning: The frame.append method is deprecated and will be removed from pandas in a future version. Use pandas.concat instead.\n",
      "  else: citi_bike_df = citi_bike_df.append(df)\n",
      "C:\\Users\\freew\\AppData\\Local\\Temp\\ipykernel_10052\\2741974383.py:14: FutureWarning: The frame.append method is deprecated and will be removed from pandas in a future version. Use pandas.concat instead.\n",
      "  else: citi_bike_df = citi_bike_df.append(df)\n",
      "C:\\Users\\freew\\AppData\\Local\\Temp\\ipykernel_10052\\2741974383.py:14: FutureWarning: The frame.append method is deprecated and will be removed from pandas in a future version. Use pandas.concat instead.\n",
      "  else: citi_bike_df = citi_bike_df.append(df)\n",
      "C:\\Users\\freew\\AppData\\Local\\Temp\\ipykernel_10052\\2741974383.py:14: FutureWarning: The frame.append method is deprecated and will be removed from pandas in a future version. Use pandas.concat instead.\n",
      "  else: citi_bike_df = citi_bike_df.append(df)\n",
      "C:\\Users\\freew\\AppData\\Local\\Temp\\ipykernel_10052\\2741974383.py:14: FutureWarning: The frame.append method is deprecated and will be removed from pandas in a future version. Use pandas.concat instead.\n",
      "  else: citi_bike_df = citi_bike_df.append(df)\n",
      "C:\\Users\\freew\\AppData\\Local\\Temp\\ipykernel_10052\\2741974383.py:14: FutureWarning: The frame.append method is deprecated and will be removed from pandas in a future version. Use pandas.concat instead.\n",
      "  else: citi_bike_df = citi_bike_df.append(df)\n",
      "C:\\Users\\freew\\AppData\\Local\\Temp\\ipykernel_10052\\2741974383.py:14: FutureWarning: The frame.append method is deprecated and will be removed from pandas in a future version. Use pandas.concat instead.\n",
      "  else: citi_bike_df = citi_bike_df.append(df)\n",
      "C:\\Users\\freew\\AppData\\Local\\Temp\\ipykernel_10052\\2741974383.py:14: FutureWarning: The frame.append method is deprecated and will be removed from pandas in a future version. Use pandas.concat instead.\n",
      "  else: citi_bike_df = citi_bike_df.append(df)\n",
      "C:\\Users\\freew\\AppData\\Local\\Temp\\ipykernel_10052\\2741974383.py:14: FutureWarning: The frame.append method is deprecated and will be removed from pandas in a future version. Use pandas.concat instead.\n",
      "  else: citi_bike_df = citi_bike_df.append(df)\n",
      "C:\\Users\\freew\\AppData\\Local\\Temp\\ipykernel_10052\\2741974383.py:14: FutureWarning: The frame.append method is deprecated and will be removed from pandas in a future version. Use pandas.concat instead.\n",
      "  else: citi_bike_df = citi_bike_df.append(df)\n",
      "C:\\Users\\freew\\AppData\\Local\\Temp\\ipykernel_10052\\2741974383.py:14: FutureWarning: The frame.append method is deprecated and will be removed from pandas in a future version. Use pandas.concat instead.\n",
      "  else: citi_bike_df = citi_bike_df.append(df)\n"
     ]
    }
   ],
   "source": [
    "import pandas as pd\n",
    "\n",
    "citi_bike_df =pd.DataFrame()\n",
    "\n",
    "for i in range(1,13):\n",
    "    if i < 10: year = '0' + str(i)\n",
    "    else: year = str(i)\n",
    "\n",
    "    csv_file = f\"data/JC-2022{year}-citibike-tripdata.csv\"\n",
    "    \n",
    "    df = pd.read_csv(csv_file)\n",
    "\n",
    "    if i == 1: citi_bike_df = df\n",
    "    else: citi_bike_df = citi_bike_df.append(df)\n",
    "    "
   ]
  },
  {
   "cell_type": "code",
   "execution_count": 40,
   "metadata": {},
   "outputs": [
    {
     "name": "stdout",
     "output_type": "stream",
     "text": [
      "<class 'pandas.core.frame.DataFrame'>\n",
      "Int64Index: 895485 entries, 0 to 48584\n",
      "Data columns (total 13 columns):\n",
      " #   Column              Non-Null Count   Dtype  \n",
      "---  ------              --------------   -----  \n",
      " 0   ride_id             895485 non-null  object \n",
      " 1   rideable_type       895485 non-null  object \n",
      " 2   started_at          895485 non-null  object \n",
      " 3   ended_at            895485 non-null  object \n",
      " 4   start_station_name  895475 non-null  object \n",
      " 5   start_station_id    895475 non-null  object \n",
      " 6   end_station_name    892281 non-null  object \n",
      " 7   end_station_id      892281 non-null  object \n",
      " 8   start_lat           895485 non-null  float64\n",
      " 9   start_lng           895485 non-null  float64\n",
      " 10  end_lat             893515 non-null  float64\n",
      " 11  end_lng             893515 non-null  float64\n",
      " 12  member_casual       895485 non-null  object \n",
      "dtypes: float64(4), object(9)\n",
      "memory usage: 95.6+ MB\n"
     ]
    }
   ],
   "source": [
    "# citi_bike_df =pd.DataFrame()\n",
    "citi_bike_df.info()"
   ]
  },
  {
   "cell_type": "code",
   "execution_count": 41,
   "metadata": {},
   "outputs": [],
   "source": [
    "citi_bike_df.to_csv(\"JC-2022-citibike-tripdata.csv\")"
   ]
  }
 ],
 "metadata": {
  "kernelspec": {
   "display_name": "base",
   "language": "python",
   "name": "python3"
  },
  "language_info": {
   "codemirror_mode": {
    "name": "ipython",
    "version": 3
   },
   "file_extension": ".py",
   "mimetype": "text/x-python",
   "name": "python",
   "nbconvert_exporter": "python",
   "pygments_lexer": "ipython3",
   "version": "3.9.12"
  },
  "orig_nbformat": 4,
  "vscode": {
   "interpreter": {
    "hash": "c10e1a588cdedcdf9acdf1b2675e871fe5f6deac27f676eec55fc8f448be1390"
   }
  }
 },
 "nbformat": 4,
 "nbformat_minor": 2
}
